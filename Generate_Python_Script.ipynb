{
 "cells": [
  {
   "cell_type": "code",
   "execution_count": 8,
   "metadata": {},
   "outputs": [],
   "source": [
    "# This script generates a shell file that does grid search for models \n",
    "import random\n",
    "import string"
   ]
  },
  {
   "cell_type": "code",
   "execution_count": 9,
   "metadata": {},
   "outputs": [],
   "source": [
    "model_names = ['resnet18', 'resnet34', 'resnet50']\n",
    "large_models = ['resnet34', 'resnet50']\n",
    "lr = [0.001, 0.0001, 0.01, 0.05, 0.0005, 0.005]\n",
    "cuda_devices = \"2,3,4\"\n",
    "file_to_write = \"exp.sh\""
   ]
  },
  {
   "cell_type": "code",
   "execution_count": 15,
   "metadata": {},
   "outputs": [],
   "source": [
    "f = open(file_to_write, \"w\")\n",
    "f.write(\"export CUDA_VISIBLE_DEVICES=\"+cuda_devices+\"\\n\")\n",
    "index = 0\n",
    "for m in model_names:\n",
    "    for l in lr:\n",
    "        if m in large_models:\n",
    "            f.write(\"python3 train.py --checkpoint-dir 'checkpoints/\" + str(m)+\"_\"+str(l) + \"' --model-name \" + m + \" --lr \" + str(l)+ \" --multi-gpu 1\\n\")\n",
    "        else:\n",
    "            f.write(\"python3 train.py --checkpoint-dir 'checkpoints/\" + str(m)+\"_\"+str(l) + \"' --model-name \" + m + \" --lr \" + str(l)+ \"\\n\")\n",
    "            \n",
    "            \n",
    "f.close()"
   ]
  },
  {
   "cell_type": "code",
   "execution_count": null,
   "metadata": {},
   "outputs": [],
   "source": []
  },
  {
   "cell_type": "code",
   "execution_count": null,
   "metadata": {},
   "outputs": [],
   "source": []
  }
 ],
 "metadata": {
  "kernelspec": {
   "display_name": "Python 3",
   "language": "python",
   "name": "python3"
  },
  "language_info": {
   "codemirror_mode": {
    "name": "ipython",
    "version": 3
   },
   "file_extension": ".py",
   "mimetype": "text/x-python",
   "name": "python",
   "nbconvert_exporter": "python",
   "pygments_lexer": "ipython3",
   "version": "3.5.2"
  }
 },
 "nbformat": 4,
 "nbformat_minor": 2
}
